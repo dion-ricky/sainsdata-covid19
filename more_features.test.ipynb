{
 "cells": [
  {
   "cell_type": "code",
   "execution_count": 1,
   "metadata": {},
   "outputs": [],
   "source": [
    "import pandas as pd\n",
    "import numpy as np\n",
    "from util import modelhelper"
   ]
  },
  {
   "cell_type": "code",
   "execution_count": 2,
   "metadata": {},
   "outputs": [],
   "source": [
    "confirmed_vs_mobility = pd.read_csv('conf_vs_mob_ID.csv')"
   ]
  },
  {
   "cell_type": "code",
   "execution_count": 3,
   "metadata": {},
   "outputs": [],
   "source": [
    "sr1_code = ''\n",
    "loc_key = \"ID\" + (\"_\" if sr1_code != '' else \"\") + sr1_code\n",
    "ndays = 7\n",
    "lcc_colname = 'LEAD_%dDAYS' % (ndays)"
   ]
  },
  {
   "cell_type": "code",
   "execution_count": 4,
   "metadata": {},
   "outputs": [],
   "source": [
    "covid_X = confirmed_vs_mobility[['CUMULATIVE_CONFIRMED', 'MOBILITY_RETAIL_AND_RECREATION']]\n",
    "covid_y = confirmed_vs_mobility[lcc_colname]\n",
    "\n",
    "covid_X = np.array(covid_X.values.tolist())\n",
    "covid_y = np.array(covid_y.values.tolist())\n",
    "\n",
    "n_null = ndays * -1\n",
    "\n",
    "covid_X_unknown = covid_X[n_null:] # Save null y from X dataset\n",
    "\n",
    "# Bersihkan dari nilai null\n",
    "covid_X = covid_X[:n_null]\n",
    "covid_y = covid_y[:n_null]"
   ]
  },
  {
   "cell_type": "code",
   "execution_count": 5,
   "metadata": {},
   "outputs": [],
   "source": [
    "repo = modelhelper.get_model_above_threshold(covid_X, covid_y, 0.1, 0.4)"
   ]
  },
  {
   "cell_type": "code",
   "execution_count": 6,
   "metadata": {},
   "outputs": [
    {
     "data": {
      "text/plain": [
       "0.9997774137322253"
      ]
     },
     "execution_count": 6,
     "metadata": {},
     "output_type": "execute_result"
    }
   ],
   "source": [
    "repo.r2_score()"
   ]
  },
  {
   "cell_type": "code",
   "execution_count": 9,
   "metadata": {
    "scrolled": true
   },
   "outputs": [
    {
     "data": {
      "text/plain": [
       "array([287715.33551384])"
      ]
     },
     "execution_count": 9,
     "metadata": {},
     "output_type": "execute_result"
    }
   ],
   "source": [
    "repo.predict([[257388, -23]])"
   ]
  },
  {
   "cell_type": "code",
   "execution_count": 14,
   "metadata": {},
   "outputs": [],
   "source": [
    "new_data = pd.read_csv('bq-results-20201203-213718-upug5frc8z61.csv')"
   ]
  },
  {
   "cell_type": "code",
   "execution_count": 15,
   "metadata": {},
   "outputs": [],
   "source": [
    "new_data_loc_id = new_data.loc[new_data.location_key == 'ID']"
   ]
  },
  {
   "cell_type": "code",
   "execution_count": 16,
   "metadata": {},
   "outputs": [
    {
     "data": {
      "text/html": [
       "<div>\n",
       "<style scoped>\n",
       "    .dataframe tbody tr th:only-of-type {\n",
       "        vertical-align: middle;\n",
       "    }\n",
       "\n",
       "    .dataframe tbody tr th {\n",
       "        vertical-align: top;\n",
       "    }\n",
       "\n",
       "    .dataframe thead th {\n",
       "        text-align: right;\n",
       "    }\n",
       "</style>\n",
       "<table border=\"1\" class=\"dataframe\">\n",
       "  <thead>\n",
       "    <tr style=\"text-align: right;\">\n",
       "      <th></th>\n",
       "      <th>date</th>\n",
       "      <th>location_key</th>\n",
       "      <th>cumulative_confirmed</th>\n",
       "      <th>mobility_retail_and_recreation</th>\n",
       "    </tr>\n",
       "  </thead>\n",
       "  <tbody>\n",
       "    <tr>\n",
       "      <th>244</th>\n",
       "      <td>2020-10-01</td>\n",
       "      <td>ID</td>\n",
       "      <td>291182.0</td>\n",
       "      <td>-20.0</td>\n",
       "    </tr>\n",
       "    <tr>\n",
       "      <th>245</th>\n",
       "      <td>2020-10-02</td>\n",
       "      <td>ID</td>\n",
       "      <td>295499.0</td>\n",
       "      <td>-20.0</td>\n",
       "    </tr>\n",
       "    <tr>\n",
       "      <th>246</th>\n",
       "      <td>2020-10-03</td>\n",
       "      <td>ID</td>\n",
       "      <td>299506.0</td>\n",
       "      <td>-19.0</td>\n",
       "    </tr>\n",
       "    <tr>\n",
       "      <th>247</th>\n",
       "      <td>2020-10-04</td>\n",
       "      <td>ID</td>\n",
       "      <td>303498.0</td>\n",
       "      <td>-20.0</td>\n",
       "    </tr>\n",
       "    <tr>\n",
       "      <th>248</th>\n",
       "      <td>2020-10-05</td>\n",
       "      <td>ID</td>\n",
       "      <td>307120.0</td>\n",
       "      <td>-17.0</td>\n",
       "    </tr>\n",
       "    <tr>\n",
       "      <th>249</th>\n",
       "      <td>2020-10-06</td>\n",
       "      <td>ID</td>\n",
       "      <td>311176.0</td>\n",
       "      <td>-19.0</td>\n",
       "    </tr>\n",
       "    <tr>\n",
       "      <th>250</th>\n",
       "      <td>2020-10-07</td>\n",
       "      <td>ID</td>\n",
       "      <td>315714.0</td>\n",
       "      <td>-18.0</td>\n",
       "    </tr>\n",
       "    <tr>\n",
       "      <th>251</th>\n",
       "      <td>2020-10-08</td>\n",
       "      <td>ID</td>\n",
       "      <td>320564.0</td>\n",
       "      <td>-18.0</td>\n",
       "    </tr>\n",
       "    <tr>\n",
       "      <th>252</th>\n",
       "      <td>2020-10-09</td>\n",
       "      <td>ID</td>\n",
       "      <td>324658.0</td>\n",
       "      <td>-20.0</td>\n",
       "    </tr>\n",
       "    <tr>\n",
       "      <th>253</th>\n",
       "      <td>2020-10-10</td>\n",
       "      <td>ID</td>\n",
       "      <td>328952.0</td>\n",
       "      <td>-22.0</td>\n",
       "    </tr>\n",
       "    <tr>\n",
       "      <th>254</th>\n",
       "      <td>2020-10-11</td>\n",
       "      <td>ID</td>\n",
       "      <td>333449.0</td>\n",
       "      <td>-19.0</td>\n",
       "    </tr>\n",
       "    <tr>\n",
       "      <th>255</th>\n",
       "      <td>2020-10-12</td>\n",
       "      <td>ID</td>\n",
       "      <td>336716.0</td>\n",
       "      <td>-17.0</td>\n",
       "    </tr>\n",
       "    <tr>\n",
       "      <th>256</th>\n",
       "      <td>2020-10-13</td>\n",
       "      <td>ID</td>\n",
       "      <td>340622.0</td>\n",
       "      <td>-19.0</td>\n",
       "    </tr>\n",
       "    <tr>\n",
       "      <th>257</th>\n",
       "      <td>2020-10-14</td>\n",
       "      <td>ID</td>\n",
       "      <td>344749.0</td>\n",
       "      <td>-16.0</td>\n",
       "    </tr>\n",
       "    <tr>\n",
       "      <th>258</th>\n",
       "      <td>2020-10-15</td>\n",
       "      <td>ID</td>\n",
       "      <td>349160.0</td>\n",
       "      <td>-16.0</td>\n",
       "    </tr>\n",
       "    <tr>\n",
       "      <th>259</th>\n",
       "      <td>2020-10-16</td>\n",
       "      <td>ID</td>\n",
       "      <td>353461.0</td>\n",
       "      <td>-20.0</td>\n",
       "    </tr>\n",
       "    <tr>\n",
       "      <th>260</th>\n",
       "      <td>2020-10-17</td>\n",
       "      <td>ID</td>\n",
       "      <td>357762.0</td>\n",
       "      <td>-17.0</td>\n",
       "    </tr>\n",
       "    <tr>\n",
       "      <th>261</th>\n",
       "      <td>2020-10-18</td>\n",
       "      <td>ID</td>\n",
       "      <td>361867.0</td>\n",
       "      <td>-19.0</td>\n",
       "    </tr>\n",
       "    <tr>\n",
       "      <th>262</th>\n",
       "      <td>2020-10-19</td>\n",
       "      <td>ID</td>\n",
       "      <td>365240.0</td>\n",
       "      <td>-20.0</td>\n",
       "    </tr>\n",
       "    <tr>\n",
       "      <th>263</th>\n",
       "      <td>2020-10-20</td>\n",
       "      <td>ID</td>\n",
       "      <td>368842.0</td>\n",
       "      <td>-19.0</td>\n",
       "    </tr>\n",
       "  </tbody>\n",
       "</table>\n",
       "</div>"
      ],
      "text/plain": [
       "           date location_key  cumulative_confirmed  \\\n",
       "244  2020-10-01           ID              291182.0   \n",
       "245  2020-10-02           ID              295499.0   \n",
       "246  2020-10-03           ID              299506.0   \n",
       "247  2020-10-04           ID              303498.0   \n",
       "248  2020-10-05           ID              307120.0   \n",
       "249  2020-10-06           ID              311176.0   \n",
       "250  2020-10-07           ID              315714.0   \n",
       "251  2020-10-08           ID              320564.0   \n",
       "252  2020-10-09           ID              324658.0   \n",
       "253  2020-10-10           ID              328952.0   \n",
       "254  2020-10-11           ID              333449.0   \n",
       "255  2020-10-12           ID              336716.0   \n",
       "256  2020-10-13           ID              340622.0   \n",
       "257  2020-10-14           ID              344749.0   \n",
       "258  2020-10-15           ID              349160.0   \n",
       "259  2020-10-16           ID              353461.0   \n",
       "260  2020-10-17           ID              357762.0   \n",
       "261  2020-10-18           ID              361867.0   \n",
       "262  2020-10-19           ID              365240.0   \n",
       "263  2020-10-20           ID              368842.0   \n",
       "\n",
       "     mobility_retail_and_recreation  \n",
       "244                           -20.0  \n",
       "245                           -20.0  \n",
       "246                           -19.0  \n",
       "247                           -20.0  \n",
       "248                           -17.0  \n",
       "249                           -19.0  \n",
       "250                           -18.0  \n",
       "251                           -18.0  \n",
       "252                           -20.0  \n",
       "253                           -22.0  \n",
       "254                           -19.0  \n",
       "255                           -17.0  \n",
       "256                           -19.0  \n",
       "257                           -16.0  \n",
       "258                           -16.0  \n",
       "259                           -20.0  \n",
       "260                           -17.0  \n",
       "261                           -19.0  \n",
       "262                           -20.0  \n",
       "263                           -19.0  "
      ]
     },
     "execution_count": 16,
     "metadata": {},
     "output_type": "execute_result"
    }
   ],
   "source": [
    "new_data_loc_id[['date','location_key','cumulative_confirmed', 'mobility_retail_and_recreation']][:20]"
   ]
  },
  {
   "cell_type": "code",
   "execution_count": 17,
   "metadata": {},
   "outputs": [
    {
     "data": {
      "text/plain": [
       "array([334444.2228466])"
      ]
     },
     "execution_count": 17,
     "metadata": {},
     "output_type": "execute_result"
    }
   ],
   "source": [
    "repo.predict([[299506.0, -19.0]])"
   ]
  },
  {
   "cell_type": "code",
   "execution_count": 18,
   "metadata": {},
   "outputs": [
    {
     "data": {
      "text/plain": [
       "-9643.10406360001"
      ]
     },
     "execution_count": 18,
     "metadata": {},
     "output_type": "execute_result"
    }
   ],
   "source": [
    "324658.0 - 334301.1040636"
   ]
  },
  {
   "cell_type": "code",
   "execution_count": 19,
   "metadata": {},
   "outputs": [
    {
     "data": {
      "text/plain": [
       "array([2811.68530358])"
      ]
     },
     "execution_count": 19,
     "metadata": {},
     "output_type": "execute_result"
    }
   ],
   "source": [
    "repo.predict([[400.0, -19.0]])"
   ]
  },
  {
   "cell_type": "code",
   "execution_count": 20,
   "metadata": {},
   "outputs": [
    {
     "data": {
      "text/plain": [
       "array([1.10874585, 7.68235869])"
      ]
     },
     "execution_count": 20,
     "metadata": {},
     "output_type": "execute_result"
    }
   ],
   "source": [
    "repo.get_model().coef_"
   ]
  },
  {
   "cell_type": "code",
   "execution_count": 21,
   "metadata": {},
   "outputs": [
    {
     "data": {
      "text/plain": [
       "array([2189.41424955])"
      ]
     },
     "execution_count": 21,
     "metadata": {},
     "output_type": "execute_result"
    }
   ],
   "source": [
    "repo.predict([[400, -100]])"
   ]
  },
  {
   "cell_type": "code",
   "execution_count": 24,
   "metadata": {},
   "outputs": [
    {
     "data": {
      "text/plain": [
       "1146.0746656374458"
      ]
     },
     "execution_count": 24,
     "metadata": {},
     "output_type": "execute_result"
    }
   ],
   "source": [
    "repo.rmse()"
   ]
  },
  {
   "cell_type": "code",
   "execution_count": null,
   "metadata": {},
   "outputs": [],
   "source": []
  }
 ],
 "metadata": {
  "kernelspec": {
   "display_name": "Python 3",
   "language": "python",
   "name": "python3"
  },
  "language_info": {
   "codemirror_mode": {
    "name": "ipython",
    "version": 3
   },
   "file_extension": ".py",
   "mimetype": "text/x-python",
   "name": "python",
   "nbconvert_exporter": "python",
   "pygments_lexer": "ipython3",
   "version": "3.8.5"
  }
 },
 "nbformat": 4,
 "nbformat_minor": 4
}
