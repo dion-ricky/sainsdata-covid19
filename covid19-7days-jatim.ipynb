{
 "cells": [
  {
   "cell_type": "code",
   "execution_count": null,
   "metadata": {},
   "outputs": [],
   "source": [
    "import pandas as pd\n",
    "from util import DbHelper\n",
    "from util.defaults import db2covid as db_options\n",
    "\n",
    "# Instantiate DbHelper class for executing\n",
    "# query to database\n",
    "db = DbHelper(db_options)"
   ]
  },
  {
   "cell_type": "code",
   "execution_count": null,
   "metadata": {},
   "outputs": [],
   "source": [
    "min_date = str(db.execute(\"SELECT MIN(date) FROM COVID19_OPEN_DATA\").values.tolist()[0][0])\n",
    "max_date = str(db.execute(\"SELECT MAX(date) FROM COVID19_OPEN_DATA\").values.tolist()[0][0])"
   ]
  },
  {
   "cell_type": "code",
   "execution_count": null,
   "metadata": {},
   "outputs": [],
   "source": [
    "# Options\n",
    "sr1_code = 'JI'\n",
    "ndays = 7\n",
    "lcc_colname = 'LEAD_%dDAYS' % (ndays)"
   ]
  },
  {
   "cell_type": "code",
   "execution_count": null,
   "metadata": {},
   "outputs": [],
   "source": [
    "date_index = pd.date_range(start=min_date, end=max_date)"
   ]
  },
  {
   "cell_type": "code",
   "execution_count": null,
   "metadata": {},
   "outputs": [],
   "source": [
    "sql = \"SELECT DATE, CUMULATIVE_CONFIRMED FROM COVID19_CUMULATIVE_DATA WHERE SUBREGION1_CODE='%s'\" % (sr1_code)\n",
    "\n",
    "cum_confirmed = db.execute(sql)\n",
    "cum_confirmed.index = date_index"
   ]
  },
  {
   "cell_type": "code",
   "execution_count": null,
   "metadata": {
    "scrolled": true
   },
   "outputs": [],
   "source": [
    "lead_cum_confirmed = db.lead_cum_confirmed_date_range(min_date, max_date, sr1_code, ndays)\n",
    "lead_cum_confirmed.index = date_index\n",
    "lead_cum_confirmed.columns = [lcc_colname]"
   ]
  },
  {
   "cell_type": "code",
   "execution_count": null,
   "metadata": {},
   "outputs": [],
   "source": [
    "confirmed = pd.concat([cum_confirmed, lead_cum_confirmed], axis=1)\n",
    "\n",
    "confirmed.plot()"
   ]
  },
  {
   "cell_type": "code",
   "execution_count": null,
   "metadata": {},
   "outputs": [],
   "source": [
    "sql = \"SELECT \"+ \\\n",
    "      \"MOBILITY_RETAIL_AND_RECREATION \" + \\\n",
    "      \"FROM COVID19_DAILY_MOBILITY_CHANGES \"+ \\\n",
    "      \"WHERE SUBREGION1_CODE='%s'\" % (sr1_code)"
   ]
  },
  {
   "cell_type": "code",
   "execution_count": null,
   "metadata": {},
   "outputs": [],
   "source": [
    "mobility = db.execute(sql)\n",
    "mobility.index = date_index"
   ]
  },
  {
   "cell_type": "code",
   "execution_count": null,
   "metadata": {
    "scrolled": true
   },
   "outputs": [],
   "source": [
    "confirmed_vs_mobility = pd.concat([confirmed, mobility], axis=1)\n",
    "\n",
    "confirmed_vs_mobility.plot.scatter(x='MOBILITY_RETAIL_AND_RECREATION', y=lcc_colname)"
   ]
  },
  {
   "cell_type": "code",
   "execution_count": null,
   "metadata": {},
   "outputs": [],
   "source": [
    "import matplotlib.pyplot as plt\n",
    "import numpy as np\n",
    "from sklearn.linear_model import LinearRegression\n",
    "from sklearn.metrics import mean_squared_error, r2_score\n",
    "from sklearn.model_selection import train_test_split"
   ]
  },
  {
   "cell_type": "code",
   "execution_count": null,
   "metadata": {},
   "outputs": [],
   "source": [
    "covid_X = confirmed_vs_mobility.MOBILITY_RETAIL_AND_RECREATION\n",
    "covid_y = confirmed_vs_mobility[lcc_colname]\n",
    "\n",
    "covid_X = np.array(covid_X.values.tolist()).reshape(-1,1)\n",
    "covid_y = np.array(covid_y.values.tolist())\n",
    "\n",
    "covid_X_unknown = covid_X[-14:]\n",
    "\n",
    "covid_X = covid_X[:-14] # Ada null value\n",
    "covid_y = covid_y[:-14] # Ada null value\n",
    "\n",
    "#covid_X_train = covid_X\n",
    "#covid_X_test = covid_X[-50:]\n",
    "\n",
    "#covid_y_train = covid_y\n",
    "#covid_y_test = covid_y[-50:]\n",
    "\n",
    "covid_X_train, covid_X_test, covid_y_train, covid_y_test = train_test_split(covid_X, covid_y, test_size=0.4)"
   ]
  },
  {
   "cell_type": "code",
   "execution_count": null,
   "metadata": {},
   "outputs": [],
   "source": [
    "regr = LinearRegression()"
   ]
  },
  {
   "cell_type": "code",
   "execution_count": null,
   "metadata": {
    "scrolled": true
   },
   "outputs": [],
   "source": [
    "regr.fit(covid_X_train, covid_y_train)"
   ]
  },
  {
   "cell_type": "code",
   "execution_count": null,
   "metadata": {},
   "outputs": [],
   "source": [
    "regr.coef_"
   ]
  },
  {
   "cell_type": "code",
   "execution_count": null,
   "metadata": {},
   "outputs": [],
   "source": [
    "covid_y_pred = regr.predict(covid_X_test)"
   ]
  },
  {
   "cell_type": "code",
   "execution_count": null,
   "metadata": {},
   "outputs": [],
   "source": [
    "# The coefficients\n",
    "print('Coefficients: \\n', regr.coef_)\n",
    "# The mean squared error\n",
    "print('Mean squared error: %.2f'\n",
    "      % mean_squared_error(covid_y_test, covid_y_pred))\n",
    "# The coefficient of determination: 1 is perfect prediction\n",
    "print('Coefficient of determination: %.2f'\n",
    "      % r2_score(covid_y_test, covid_y_pred))"
   ]
  },
  {
   "cell_type": "code",
   "execution_count": null,
   "metadata": {},
   "outputs": [],
   "source": [
    "# Plot outputs\n",
    "plt.scatter(covid_X_test, covid_y_test,  color='black')\n",
    "plt.plot(covid_X_test, covid_y_pred, color='blue', linewidth=3)\n",
    "\n",
    "plt.show()"
   ]
  },
  {
   "cell_type": "code",
   "execution_count": null,
   "metadata": {
    "scrolled": true
   },
   "outputs": [],
   "source": [
    "regr.predict(np.array([[2]]))"
   ]
  },
  {
   "cell_type": "code",
   "execution_count": null,
   "metadata": {},
   "outputs": [],
   "source": [
    "from joblib import dump\n",
    "import math\n",
    "dump(regr, 'model/regr-model_%s-%d_%d.joblib' % (sr1_code, ndays, math.ceil((r2_score(covid_y_test, covid_y_pred)) * 100) ))"
   ]
  },
  {
   "cell_type": "code",
   "execution_count": null,
   "metadata": {},
   "outputs": [],
   "source": [
    "def get_model_above_threshold(X, y, r2_threshold, test_size=None):\n",
    "    while True:\n",
    "        covid_X_train, covid_X_test, covid_y_train, covid_y_test = train_test_split(X, y, test_size=test_size)\n",
    "        _regr = LinearRegression()\n",
    "\n",
    "        _regr.fit(covid_X_train, covid_y_train)\n",
    "\n",
    "        covid_y_pred = regr.predict(covid_X_test)\n",
    "\n",
    "        _r2_score = r2_score(covid_y_test, covid_y_pred)\n",
    "\n",
    "        # The coefficients\n",
    "        print('Coefficients: \\n', regr.coef_)\n",
    "        # The mean squared error\n",
    "        print('Mean squared error: %.2f'\n",
    "              % mean_squared_error(covid_y_test, covid_y_pred))\n",
    "        # The coefficient of determination: 1 is perfect prediction\n",
    "        print('Coefficient of determination: %.2f'\n",
    "              % _r2_score)\n",
    "\n",
    "        if _r2_score < r2_threshold:\n",
    "            continue\n",
    "\n",
    "        return covid_X_train, covid_X_test, covid_y_train, covid_y_test, _regr"
   ]
  },
  {
   "cell_type": "code",
   "execution_count": null,
   "metadata": {},
   "outputs": [],
   "source": [
    "_,_,_,_,r = get_model_above_threshold(covid_X, covid_y, 0.63, 0.4)"
   ]
  },
  {
   "cell_type": "code",
   "execution_count": null,
   "metadata": {},
   "outputs": [],
   "source": []
  }
 ],
 "metadata": {
  "kernelspec": {
   "display_name": "Python 3",
   "language": "python",
   "name": "python3"
  },
  "language_info": {
   "codemirror_mode": {
    "name": "ipython",
    "version": 3
   },
   "file_extension": ".py",
   "mimetype": "text/x-python",
   "name": "python",
   "nbconvert_exporter": "python",
   "pygments_lexer": "ipython3",
   "version": "3.8.5"
  }
 },
 "nbformat": 4,
 "nbformat_minor": 4
}
