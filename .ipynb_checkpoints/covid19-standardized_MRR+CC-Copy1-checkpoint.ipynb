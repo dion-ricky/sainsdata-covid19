{
 "cells": [
  {
   "cell_type": "markdown",
   "metadata": {},
   "source": [
    "# Covid-19 Cumulative Confirmed Difference Prediction menggunakan Regresi Linear\n",
    "\n",
    "Notebook ini digunakan untuk membuat model regresi linear dari dataset menggunakan dua fitur yaitu MRR dan CC.\n",
    "Perintah pada notebook ini terdiri atas dua bagian, yaitu query data dari database dan melatih model menggunakan data hasil random sampling dari dataset."
   ]
  },
  {
   "cell_type": "markdown",
   "metadata": {},
   "source": [
    "---\n",
    "Pertama, melakukan import terhadap library dan helper yang digunakan. Semua library yang diimport dari `util` dibuat oleh peneliti dan dirancang khusus hanya untuk penelitian ini. Library pada `util` mungkin dapat digunakan pada penelitian lain dengan melakukan beberapa modifikasi."
   ]
  },
  {
   "cell_type": "code",
   "execution_count": 1,
   "metadata": {},
   "outputs": [],
   "source": [
    "import matplotlib.pyplot as plt\n",
    "import numpy as np\n",
    "import pandas as pd\n",
    "from util import DbHelper\n",
    "from util.defaults import db2covid as db_options\n",
    "import util.modelhelper as modelhelper\n",
    "import math\n",
    "\n",
    "# Instantiate DbHelper class for executing\n",
    "# query to database\n",
    "db = DbHelper(db_options)"
   ]
  },
  {
   "cell_type": "markdown",
   "metadata": {},
   "source": [
    "## Bagian 1: Pengambilan data\n",
    "---\n",
    "Selanjutnya adalah bagian pertama dari Notebook yang digunakan untuk mendapatkan data dengan melakukan query ke database.\n",
    "\n",
    "Dua variabel ditetapkan untuk memberikan batasan data yang diambil dari database. Penelitian ini akan menggunakan data terkait covid-19 di Indonesia dari tanggal 1 April hingga 30 September 2020."
   ]
  },
  {
   "cell_type": "code",
   "execution_count": 2,
   "metadata": {},
   "outputs": [],
   "source": [
    "min_date = str(db.execute(\"SELECT MIN(date) FROM COVID19_OPEN_DATA\").values.tolist()[0][0])\n",
    "max_date = str(db.execute(\"SELECT MAX(date) FROM COVID19_OPEN_DATA\").values.tolist()[0][0])"
   ]
  },
  {
   "cell_type": "code",
   "execution_count": 3,
   "metadata": {},
   "outputs": [],
   "source": [
    "# Options\n",
    "sr1_code = ''\n",
    "loc_key = \"ID\" + (\"_\" if sr1_code != '' else \"\") + sr1_code\n",
    "ndays = 7\n",
    "lcc_colname = 'DIFF_CC_%dDAYS' % (ndays)"
   ]
  },
  {
   "cell_type": "code",
   "execution_count": 4,
   "metadata": {},
   "outputs": [],
   "source": [
    "date_index = pd.date_range(start=min_date, end=max_date)"
   ]
  },
  {
   "cell_type": "code",
   "execution_count": 5,
   "metadata": {},
   "outputs": [],
   "source": [
    "sql = \"SELECT DATE, CUMULATIVE_CONFIRMED FROM COVID19_CUMULATIVE_DATA WHERE LOCATION_KEY='%s'\" % (loc_key)\n",
    "\n",
    "cc = db.execute(sql)\n",
    "cc.index = date_index"
   ]
  },
  {
   "cell_type": "code",
   "execution_count": 6,
   "metadata": {
    "scrolled": true
   },
   "outputs": [],
   "source": [
    "diff_lead_cc = db.diff_lead_cum_confirmed_date_range(min_date, max_date, sr1_code, ndays)\n",
    "diff_lead_cc.index = date_index\n",
    "diff_lead_cc.columns = [lcc_colname]"
   ]
  },
  {
   "cell_type": "code",
   "execution_count": 7,
   "metadata": {},
   "outputs": [],
   "source": [
    "cc_dlcc = pd.concat([cc, diff_lead_cc], axis=1)"
   ]
  },
  {
   "cell_type": "code",
   "execution_count": 8,
   "metadata": {},
   "outputs": [],
   "source": [
    "sql = \"SELECT \"+ \\\n",
    "      \"MOBILITY_RETAIL_AND_RECREATION \" + \\\n",
    "      \"FROM COVID19_DAILY_MOBILITY_CHANGES \"+ \\\n",
    "      \"WHERE LOCATION_KEY='%s'\" % (loc_key)"
   ]
  },
  {
   "cell_type": "code",
   "execution_count": 9,
   "metadata": {},
   "outputs": [],
   "source": [
    "mrr = db.execute(sql)\n",
    "mrr.index = date_index"
   ]
  },
  {
   "cell_type": "markdown",
   "metadata": {},
   "source": [
    "---\n",
    "Dibawah ini dapat Anda lihat grafik scatter plot yang memetakan MRR di sumbu x dengan CCD7 di sumbu y. Dari grafik tersebut dapat diketahui bahwa terdapat hubungan positif antara variabel MRR dengan CCD7."
   ]
  },
  {
   "cell_type": "code",
   "execution_count": 10,
   "metadata": {
    "scrolled": true
   },
   "outputs": [
    {
     "data": {
      "text/plain": [
       "<AxesSubplot:xlabel='MOBILITY_RETAIL_AND_RECREATION', ylabel='DIFF_CC_7DAYS'>"
      ]
     },
     "execution_count": 10,
     "metadata": {},
     "output_type": "execute_result"
    },
    {
     "data": {
      "image/png": "[encoded data removed]",
      "text/plain": [
       "<Figure size 432x288 with 1 Axes>"
      ]
     },
     "metadata": {
      "needs_background": "light"
     },
     "output_type": "display_data"
    }
   ],
   "source": [
    "cc_dlcc_mrr = pd.concat([cc_dlcc, mrr], axis=1)\n",
    "\n",
    "cc_dlcc_mrr.plot.scatter(x='MOBILITY_RETAIL_AND_RECREATION', y=lcc_colname)"
   ]
  },
  {
   "cell_type": "markdown",
   "metadata": {},
   "source": [
    "## Bagian 2: Melatih model\n",
    "---\n",
    "Dibawah ini merupakan bagian kedua untuk melatih model regresi linear menggunakan dataset yang sudah diambil pada bagian 1.\n",
    "\n",
    "Sebelum melakukan training pada model, dataset akan dibagi menjadi dua bagian. Satu bagian menjadi data latih dan bagian lainnya menjadi data uji. Pada penelitian ini, dalam membagi dataset ke data latih dan data uji digunakan metode random sampling dengan 40% data akan menjadi data latih dan 60% menjadi data uji.\n",
    "\n",
    "Data uji akan digunakan untuk mengetahui kinerja dari model dalam memprediksi nilai.\n",
    "\n",
    "Fitur yang digunakan adalah `CUMULATIVE_CONFIRMED` atau CC dan `MOBILITY_RETAIL_AND_RECREATION` atau MRR. Nilai yang diprediksi adalah CCD7."
   ]
  },
  {
   "cell_type": "code",
   "execution_count": 11,
   "metadata": {},
   "outputs": [],
   "source": [
    "# covid_X adalah fitur dan covid_y adalah target\n",
    "covid_X = cc_dlcc_mrr[['CUMULATIVE_CONFIRMED', 'MOBILITY_RETAIL_AND_RECREATION']]\n",
    "covid_y = cc_dlcc_mrr[lcc_colname]\n",
    "\n",
    "covid_X = np.array(covid_X.values.tolist())\n",
    "covid_y = np.array(covid_y.values.tolist())\n",
    "\n",
    "n_null = ndays * -1\n",
    "\n",
    "covid_X_unknown = covid_X[n_null:] # Save null y from X dataset\n",
    "\n",
    "# Bersihkan dari nilai null\n",
    "covid_X = covid_X[:n_null]\n",
    "covid_y = covid_y[:n_null]"
   ]
  },
  {
   "cell_type": "markdown",
   "metadata": {},
   "source": [
    "---\n",
    "Baris kode dibawah ini digunakan untuk melatih model. Method `get_model_above_threshold` digunakan untuk membantu peneliti dalam melatih model sehingga mendapat nilai r-squared diatas batas minimum tertentu.\n",
    "\n",
    "Parameter pada perintah tersebut adalah: <br>\n",
    "`get_model_above_threshold( fitur_train, target_train, r2_threshold, train_ratio)`\n",
    "\n",
    "Method diatas dibuat oleh peneliti untuk mempermudah dalam melatih model. Pada implementasinya, perintah tersebut menggunakan class `LinearRegression` dari library `sklearn.linear_model`.\n",
    "\n",
    "Baris kode dibawah akan menghasilkan model yang memiliki nilai r-squared diatas 0.8. Peneliti menggunakan batas tersebut untuk memperoleh model yang dapat memprediksi nilai dengan baik."
   ]
  },
  {
   "cell_type": "code",
   "execution_count": 12,
   "metadata": {
    "scrolled": true
   },
   "outputs": [],
   "source": [
    "model = modelhelper.get_model_above_threshold(covid_X, covid_y, 0.8, 0.4)\n",
    "#repo = modelhelper.get_model_above_threshold(covid_X, covid_y, repo.r2_score(), 0.4)"
   ]
  },
  {
   "cell_type": "code",
   "execution_count": 13,
   "metadata": {
    "scrolled": false
   },
   "outputs": [
    {
     "data": {
      "text/plain": [
       "0.9743726562041346"
      ]
     },
     "execution_count": 13,
     "metadata": {},
     "output_type": "execute_result"
    }
   ],
   "source": [
    "model.r2_score()"
   ]
  },
  {
   "cell_type": "code",
   "execution_count": 14,
   "metadata": {},
   "outputs": [
    {
     "data": {
      "text/plain": [
       "2847.350410973596"
      ]
     },
     "execution_count": 14,
     "metadata": {},
     "output_type": "execute_result"
    }
   ],
   "source": [
    "model.get_model().intercept_"
   ]
  },
  {
   "cell_type": "code",
   "execution_count": 15,
   "metadata": {},
   "outputs": [
    {
     "data": {
      "text/plain": [
       "1355238.316870405"
      ]
     },
     "execution_count": 15,
     "metadata": {},
     "output_type": "execute_result"
    }
   ],
   "source": [
    "model.mean_squared_error()"
   ]
  },
  {
   "cell_type": "code",
   "execution_count": 16,
   "metadata": {},
   "outputs": [
    {
     "data": {
      "text/plain": [
       "0.9743726562041346"
      ]
     },
     "execution_count": 16,
     "metadata": {},
     "output_type": "execute_result"
    }
   ],
   "source": [
    "model.r2_score()"
   ]
  },
  {
   "cell_type": "code",
   "execution_count": 17,
   "metadata": {
    "scrolled": true
   },
   "outputs": [
    {
     "data": {
      "text/plain": [
       "1164.1470340426956"
      ]
     },
     "execution_count": 17,
     "metadata": {},
     "output_type": "execute_result"
    }
   ],
   "source": [
    "model.rmse()"
   ]
  },
  {
   "cell_type": "markdown",
   "metadata": {},
   "source": [
    "---\n",
    "Model dapat dilatih terus menerus untuk mendapatkan hasil yang paling optimal dengan nilai r-squared paling tinggi dan nilai RMSE paling rendah.\n",
    "\n",
    "Pada suatu kondisi, peneliti berhasil memperoleh model yang memiliki r-squared 0.991504 dengan RMSE 717.393.\n",
    "\n",
    "Setelah mendapatkan model yang dikehendaki, model dapat disimpan menggunakan perintah `dump` dengan nama file tertentu. Peneliti membuat perintah `dump` dengan menyertakan class ModelRepository dari library `util` untuk mempermudah dalam eksekusinya. Apabila model akan digunakan diluar dari lingkungan penelitian ini maka semua file pada library `util` juga harus diikutsertakan."
   ]
  },
  {
   "cell_type": "code",
   "execution_count": 18,
   "metadata": {},
   "outputs": [],
   "source": [
    "# Baris ini di-uncomment untuk export model ke folder ./model\n",
    "# model.dump('model/regr-model-v2_%s-%d_%d.joblib' % (loc_key, ndays, math.ceil(repo.r2_score() * 100)) )"
   ]
  }
 ],
 "metadata": {
  "kernelspec": {
   "display_name": "Python 3",
   "language": "python",
   "name": "python3"
  },
  "language_info": {
   "codemirror_mode": {
    "name": "ipython",
    "version": 3
   },
   "file_extension": ".py",
   "mimetype": "text/x-python",
   "name": "python",
   "nbconvert_exporter": "python",
   "pygments_lexer": "ipython3",
   "version": "3.8.5"
  }
 },
 "nbformat": 4,
 "nbformat_minor": 4
}
