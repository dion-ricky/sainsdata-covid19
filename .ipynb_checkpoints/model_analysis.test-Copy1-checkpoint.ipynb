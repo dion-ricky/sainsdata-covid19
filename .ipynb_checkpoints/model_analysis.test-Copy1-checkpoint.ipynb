{
 "cells": [
  {
   "cell_type": "markdown",
   "metadata": {},
   "source": [
    "# CCD7 Prediction Model Analysis\n",
    "\n",
    "Notebook ini digunakan untuk melakukan analisis kinerja dari model yang diperoleh. Model yang telah dilatih disimpan pada folder `./model` dengan format penamaan `regr-model-v2_{LK}-{ND}_{RS}.joblib`.\n",
    "\n",
    "LK = location key; ID untuk Indonesia, JI untuk Jawa Timur\n",
    "ND = n days; rentang hari, model memprediksi CCD{ND}. Contohnya untuk ND=7 maka model memprediksi CCD7, untuk ND=14 maka model memprediksi CCD14\n",
    "RS = r-squared; nilai r-squared dari model yang disimpan dikalikan dengan 100."
   ]
  },
  {
   "cell_type": "code",
   "execution_count": 1,
   "metadata": {},
   "outputs": [],
   "source": [
    "from joblib import load\n",
    "import pandas as pd\n",
    "import matplotlib.pyplot as plt"
   ]
  },
  {
   "cell_type": "code",
   "execution_count": 3,
   "metadata": {},
   "outputs": [],
   "source": [
    "model = load('model/regr-model-v2_ID-7_99.joblib')"
   ]
  },
  {
   "cell_type": "code",
   "execution_count": 9,
   "metadata": {},
   "outputs": [],
   "source": [
    "X_test_7d = pd.DataFrame(data=model.get_X_test(), columns=[\"dlcc_7days\", \"mrr\"])"
   ]
  },
  {
   "cell_type": "code",
   "execution_count": 10,
   "metadata": {},
   "outputs": [],
   "source": [
    "x_plot = X_test_7d[\"mrr\"].values\n",
    "y_test_plot = model.get_y_test() # Target sebagai data uji\n",
    "y_pred_plot = model.get_y_pred() # Target yang diprediksi oleh model"
   ]
  },
  {
   "cell_type": "markdown",
   "metadata": {},
   "source": [
    "---\n",
    "Dibawah ini merupakan grafik scatter plot yang menunjukkan akurasi hasil prediksi dari model yang telah dilatih. Model dapat memprediksi dengan akurat karena tidak terlihat deviasi yang tinggi antara nilai yang diprediksi dengan nilai sesungguhnya."
   ]
  },
  {
   "cell_type": "code",
   "execution_count": 24,
   "metadata": {
    "scrolled": true
   },
   "outputs": [
    {
     "data": {
      "image/png": "[encoded data removed]",
      "text/plain": [
       "<Figure size 432x288 with 1 Axes>"
      ]
     },
     "metadata": {
      "needs_background": "light"
     },
     "output_type": "display_data"
    }
   ],
   "source": [
    "t_expected = plt.scatter(x_plot, y_test_plot,  color='black')\n",
    "t_predicted = plt.scatter(x_plot, y_pred_plot, color='orange')\n",
    "\n",
    "plt.legend([t_expected, t_predicted], ['Expected', 'Predicted'])\n",
    "plt.xlabel('MRR')\n",
    "plt.ylabel('CCD7')\n",
    "\n",
    "plt.show()"
   ]
  },
  {
   "cell_type": "code",
   "execution_count": 14,
   "metadata": {},
   "outputs": [
    {
     "data": {
      "text/plain": [
       "0.9915045652883007"
      ]
     },
     "execution_count": 14,
     "metadata": {},
     "output_type": "execute_result"
    }
   ],
   "source": [
    "model.r2_score()"
   ]
  },
  {
   "cell_type": "code",
   "execution_count": 20,
   "metadata": {},
   "outputs": [
    {
     "data": {
      "text/plain": [
       "717.3939325271722"
      ]
     },
     "execution_count": 20,
     "metadata": {},
     "output_type": "execute_result"
    }
   ],
   "source": [
    "model.rmse()"
   ]
  },
  {
   "cell_type": "code",
   "execution_count": 22,
   "metadata": {},
   "outputs": [
    {
     "data": {
      "text/plain": [
       "2895.4031006300847"
      ]
     },
     "execution_count": 22,
     "metadata": {},
     "output_type": "execute_result"
    }
   ],
   "source": [
    "model.get_model().intercept_"
   ]
  },
  {
   "cell_type": "code",
   "execution_count": 23,
   "metadata": {},
   "outputs": [
    {
     "data": {
      "text/plain": [
       "array([ 0.1074089 , 16.66604051])"
      ]
     },
     "execution_count": 23,
     "metadata": {},
     "output_type": "execute_result"
    }
   ],
   "source": [
    "model.get_model().coef_"
   ]
  },
  {
   "cell_type": "code",
   "execution_count": null,
   "metadata": {},
   "outputs": [],
   "source": []
  }
 ],
 "metadata": {
  "kernelspec": {
   "display_name": "Python 3",
   "language": "python",
   "name": "python3"
  },
  "language_info": {
   "codemirror_mode": {
    "name": "ipython",
    "version": 3
   },
   "file_extension": ".py",
   "mimetype": "text/x-python",
   "name": "python",
   "nbconvert_exporter": "python",
   "pygments_lexer": "ipython3",
   "version": "3.8.5"
  }
 },
 "nbformat": 4,
 "nbformat_minor": 4
}
